{
 "cells": [
  {
   "cell_type": "code",
   "execution_count": 1,
   "metadata": {},
   "outputs": [],
   "source": [
    "import numpy as np\n",
    "import matplotlib.pyplot as plt\n",
    "import pandas as pd\n",
    "import scipy.special as sc\n",
    "\n",
    "%matplotlib inline"
   ]
  },
  {
   "cell_type": "code",
   "execution_count": 2,
   "metadata": {},
   "outputs": [],
   "source": [
    "time_array = np.arange(0, 1000000, 1)\n",
    "pi = 2906\n",
    "B = 1.27 #RBBL/STB\n",
    "mu = 0.1 #cP\n",
    "k = 20 #mD\n",
    "h = 30 #ft\n",
    "phi = 0.28 #frac\n",
    "ct = 3*10**-6 #psi^-1\n",
    "r = 100 #ft\n",
    "np.random.seed(120296)\n",
    "\n",
    "data_nametag = \"bigdata\"\n",
    "df_string = \"tabular_\" + data_nametag + \".xlsx\"\n",
    "flowrate_df = pd.read_excel(df_string, index_col=0)\n",
    "t_list = flowrate_df[\"END(sec)\"].values\n",
    "q_list = flowrate_df[\"FLOWRATE\"].values\n",
    "t_list = np.insert(t_list, 0, 0)\n",
    "q_list = np.insert(q_list, 0, 0)\n",
    "q_list = np.insert(q_list, -1, q_list[-1])"
   ]
  },
  {
   "cell_type": "code",
   "execution_count": 3,
   "metadata": {},
   "outputs": [],
   "source": [
    "def superposition(t_list, q_list, t_arange, initial_pressure, B, mu, k, h, phi, ct, r):\n",
    "    pressure_list = []\n",
    "    for t in t_arange:\n",
    "        for idx, t_start in enumerate(t_list):\n",
    "            if t_start >= t:\n",
    "                #this is the next large t_mark, we need the index of this t_mark\n",
    "                #so that we can iterate over the length of the index\n",
    "                t_idx = idx\n",
    "                break\n",
    "            t_idx = len(t_list) #if t is greater than all ts in t_list,\n",
    "            #then we want t_idx to cover all t_list\n",
    "        pressure_drop = 0 #first set it equal to 0\n",
    "        for i in range(t_idx):\n",
    "            pressure_drop += (70.6 * (q_list[i+1]-q_list[i]) * B * mu / (k*h)) * -sc.expi(-(948*phi*mu*ct*r**2)/(k*(t - t_list[i]))) \n",
    "        pressure_list.append(initial_pressure-pressure_drop)\n",
    "    return pressure_list\n",
    "\n",
    "\n",
    "def outlier_generator(percentage_of_outliers, dataset):\n",
    "    pressure_list_with_outliers = list(dataset)\n",
    "    outlier_list = [50, 75, 100]\n",
    "    outlier_sign = [-1, 1]\n",
    "    num_of_outliers = int(len(dataset)*percentage_of_outliers/100)\n",
    "    outlier_index = np.random.choice(len(dataset), size=num_of_outliers, replace=False)\n",
    "    for idx in outlier_index:\n",
    "        outlier = np.random.choice(outlier_list) * np.random.choice(outlier_sign)\n",
    "        pressure_list_with_outliers[idx] += outlier\n",
    "    return pressure_list_with_outliers"
   ]
  },
  {
   "cell_type": "code",
   "execution_count": 4,
   "metadata": {},
   "outputs": [
    {
     "data": {
      "image/png": "[encoded data removed]",
      "text/plain": [
       "<Figure size 432x288 with 1 Axes>"
      ]
     },
     "metadata": {
      "needs_background": "light"
     },
     "output_type": "display_data"
    }
   ],
   "source": [
    "pdg_clean = superposition(t_list, q_list, time_array, pi, B, mu, k, h, phi, ct, r)\n",
    "mu, sigma = 0, 5 # For noise generation\n",
    "noise = np.random.normal(mu, sigma, len(pdg_clean))\n",
    "pdg_noisy = pdg_clean + noise\n",
    "pdg_outliers = outlier_generator(1, pdg_noisy)"
   ]
  },
  {
   "cell_type": "code",
   "execution_count": 5,
   "metadata": {},
   "outputs": [],
   "source": [
    "tuples_clean = list(zip(time_array, pdg_clean))\n",
    "tuples_noisy = list(zip(time_array, pdg_noisy))\n",
    "tuples_outliers = list(zip(time_array, pdg_outliers))\n",
    "clean_string = \"clean_\" + data_nametag + \".csv\"\n",
    "noisy_string = \"noisy_\" + data_nametag + \".csv\"\n",
    "outliers_string = \"outliers_\" + data_nametag + \".csv\"\n",
    "df_clean = pd.DataFrame(tuples_clean, columns=['Time(s)', 'Pressure(psi)'])\n",
    "df_noisy = pd.DataFrame(tuples_noisy, columns=['Time(s)', 'Pressure(psi)'])\n",
    "df_outliers = pd.DataFrame(tuples_outliers, columns=['Time(s)', 'Pressure(psi)'])\n",
    "df_clean.to_csv(clean_string)\n",
    "df_noisy.to_csv(noisy_string)\n",
    "df_outliers.to_csv(outliers_string)"
   ]
  }
 ],
 "metadata": {
  "kernelspec": {
   "display_name": "Python 3",
   "language": "python",
   "name": "python3"
  },
  "language_info": {
   "codemirror_mode": {
    "name": "ipython",
    "version": 3
   },
   "file_extension": ".py",
   "mimetype": "text/x-python",
   "name": "python",
   "nbconvert_exporter": "python",
   "pygments_lexer": "ipython3",
   "version": "3.9.4"
  }
 },
 "nbformat": 4,
 "nbformat_minor": 4
}
