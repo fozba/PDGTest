{
 "cells": [
  {
   "cell_type": "code",
   "execution_count": 1,
   "metadata": {},
   "outputs": [],
   "source": [
    "import numpy as np\n",
    "import matplotlib.pyplot as plt\n",
    "import pandas as pd\n",
    "import scipy.special as sc\n",
    "from statsmodels.nonparametric.smoothers_lowess import lowess\n",
    "import csaps\n",
    "import rpy2.robjects as robj\n",
    "from sklearn.metrics import mean_squared_error\n",
    "import pywt\n",
    "from skimage.restoration import denoise_wavelet"
   ]
  },
  {
   "cell_type": "code",
   "execution_count": 2,
   "metadata": {},
   "outputs": [],
   "source": [
    "def RMSE(actual, predict):\n",
    "    return np.sqrt(np.square(np.subtract(actual, predict)).mean())\n",
    "\n",
    "data_nametag = \"onerate\"\n",
    "clean_string = \"clean_\" + data_nametag + \".csv\"\n",
    "noisy_string = \"noisy_\" + data_nametag + \".csv\"\n",
    "outliers_string = \"outliers_\" + data_nametag + \".csv\"\n",
    "\n",
    "clean_df = pd.read_csv(clean_string, index_col=0)\n",
    "noisy_df = pd.read_csv(noisy_string, index_col=0)\n",
    "outliers_df = pd.read_csv(outliers_string, index_col=0)\n",
    "\n",
    "pdg_data = clean_df['Pressure(psi)'].to_numpy()\n",
    "pdg_noisy = noisy_df['Pressure(psi)'].to_numpy()\n",
    "pdg_outliers = outliers_df['Pressure(psi)'].to_numpy()\n",
    "time_array = outliers_df['Time(s)'].to_numpy()"
   ]
  },
  {
   "cell_type": "code",
   "execution_count": 3,
   "metadata": {},
   "outputs": [
    {
     "ename": "KeyError",
     "evalue": "\"'robustSmoothSpline' not found\"",
     "output_type": "error",
     "traceback": [
      "\u001b[1;31m---------------------------------------------------------------------------\u001b[0m",
      "\u001b[1;31mKeyError\u001b[0m                                  Traceback (most recent call last)",
      "\u001b[1;32m<ipython-input-3-76844d834b53>\u001b[0m in \u001b[0;36m<module>\u001b[1;34m\u001b[0m\n\u001b[0;32m     16\u001b[0m \u001b[1;31m#wavelet_noisy = denoise_wavelet(pdg_noisy, wavelet='sym8', mode='soft', method='BayesShrink')\u001b[0m\u001b[1;33m\u001b[0m\u001b[1;33m\u001b[0m\u001b[1;33m\u001b[0m\u001b[0m\n\u001b[0;32m     17\u001b[0m \u001b[1;31m#Robust Spline\u001b[0m\u001b[1;33m\u001b[0m\u001b[1;33m\u001b[0m\u001b[1;33m\u001b[0m\u001b[0m\n\u001b[1;32m---> 18\u001b[1;33m \u001b[0mr_robust_smooth_spline\u001b[0m \u001b[1;33m=\u001b[0m \u001b[0mrobj\u001b[0m\u001b[1;33m.\u001b[0m\u001b[0mr\u001b[0m\u001b[1;33m[\u001b[0m\u001b[1;34m'robustSmoothSpline'\u001b[0m\u001b[1;33m]\u001b[0m\u001b[1;33m\u001b[0m\u001b[1;33m\u001b[0m\u001b[0m\n\u001b[0m\u001b[0;32m     19\u001b[0m \u001b[0mrob_spl_outliers\u001b[0m \u001b[1;33m=\u001b[0m \u001b[0mnp\u001b[0m\u001b[1;33m.\u001b[0m\u001b[0masarray\u001b[0m\u001b[1;33m(\u001b[0m\u001b[0mr_robust_smooth_spline\u001b[0m\u001b[1;33m(\u001b[0m\u001b[0mx\u001b[0m\u001b[1;33m=\u001b[0m\u001b[0mr_x\u001b[0m\u001b[1;33m,\u001b[0m \u001b[0my\u001b[0m\u001b[1;33m=\u001b[0m\u001b[0mr_y_outliers\u001b[0m\u001b[1;33m)\u001b[0m\u001b[1;33m[\u001b[0m\u001b[1;36m1\u001b[0m\u001b[1;33m]\u001b[0m\u001b[1;33m)\u001b[0m\u001b[1;33m\u001b[0m\u001b[1;33m\u001b[0m\u001b[0m\n\u001b[0;32m     20\u001b[0m \u001b[0mrob_spl_noisy\u001b[0m \u001b[1;33m=\u001b[0m \u001b[0mnp\u001b[0m\u001b[1;33m.\u001b[0m\u001b[0masarray\u001b[0m\u001b[1;33m(\u001b[0m\u001b[0mr_robust_smooth_spline\u001b[0m\u001b[1;33m(\u001b[0m\u001b[0mx\u001b[0m\u001b[1;33m=\u001b[0m\u001b[0mr_x\u001b[0m\u001b[1;33m,\u001b[0m \u001b[0my\u001b[0m\u001b[1;33m=\u001b[0m\u001b[0mr_y_noisy\u001b[0m\u001b[1;33m)\u001b[0m\u001b[1;33m[\u001b[0m\u001b[1;36m1\u001b[0m\u001b[1;33m]\u001b[0m\u001b[1;33m)\u001b[0m\u001b[1;33m\u001b[0m\u001b[1;33m\u001b[0m\u001b[0m\n",
      "\u001b[1;32mc:\\users\\fehmi\\appdata\\local\\programs\\python\\python39\\lib\\site-packages\\rpy2\\robjects\\__init__.py\u001b[0m in \u001b[0;36m__getitem__\u001b[1;34m(self, item)\u001b[0m\n\u001b[0;32m    416\u001b[0m \u001b[1;33m\u001b[0m\u001b[0m\n\u001b[0;32m    417\u001b[0m     \u001b[1;32mdef\u001b[0m \u001b[0m__getitem__\u001b[0m\u001b[1;33m(\u001b[0m\u001b[0mself\u001b[0m\u001b[1;33m,\u001b[0m \u001b[0mitem\u001b[0m\u001b[1;33m)\u001b[0m\u001b[1;33m:\u001b[0m\u001b[1;33m\u001b[0m\u001b[1;33m\u001b[0m\u001b[0m\n\u001b[1;32m--> 418\u001b[1;33m         \u001b[0mres\u001b[0m \u001b[1;33m=\u001b[0m \u001b[0m_globalenv\u001b[0m\u001b[1;33m.\u001b[0m\u001b[0mfind\u001b[0m\u001b[1;33m(\u001b[0m\u001b[0mitem\u001b[0m\u001b[1;33m)\u001b[0m\u001b[1;33m\u001b[0m\u001b[1;33m\u001b[0m\u001b[0m\n\u001b[0m\u001b[0;32m    419\u001b[0m         \u001b[0mres\u001b[0m \u001b[1;33m=\u001b[0m \u001b[0mconversion\u001b[0m\u001b[1;33m.\u001b[0m\u001b[0mrpy2py\u001b[0m\u001b[1;33m(\u001b[0m\u001b[0mres\u001b[0m\u001b[1;33m)\u001b[0m\u001b[1;33m\u001b[0m\u001b[1;33m\u001b[0m\u001b[0m\n\u001b[0;32m    420\u001b[0m         \u001b[1;32mif\u001b[0m \u001b[0mhasattr\u001b[0m\u001b[1;33m(\u001b[0m\u001b[0mres\u001b[0m\u001b[1;33m,\u001b[0m \u001b[1;34m'__rname__'\u001b[0m\u001b[1;33m)\u001b[0m\u001b[1;33m:\u001b[0m\u001b[1;33m\u001b[0m\u001b[1;33m\u001b[0m\u001b[0m\n",
      "\u001b[1;32mc:\\users\\fehmi\\appdata\\local\\programs\\python\\python39\\lib\\site-packages\\rpy2\\rinterface_lib\\conversion.py\u001b[0m in \u001b[0;36m_\u001b[1;34m(*args, **kwargs)\u001b[0m\n\u001b[0;32m     43\u001b[0m \u001b[1;32mdef\u001b[0m \u001b[0m_cdata_res_to_rinterface\u001b[0m\u001b[1;33m(\u001b[0m\u001b[0mfunction\u001b[0m\u001b[1;33m)\u001b[0m\u001b[1;33m:\u001b[0m\u001b[1;33m\u001b[0m\u001b[1;33m\u001b[0m\u001b[0m\n\u001b[0;32m     44\u001b[0m     \u001b[1;32mdef\u001b[0m \u001b[0m_\u001b[0m\u001b[1;33m(\u001b[0m\u001b[1;33m*\u001b[0m\u001b[0margs\u001b[0m\u001b[1;33m,\u001b[0m \u001b[1;33m**\u001b[0m\u001b[0mkwargs\u001b[0m\u001b[1;33m)\u001b[0m\u001b[1;33m:\u001b[0m\u001b[1;33m\u001b[0m\u001b[1;33m\u001b[0m\u001b[0m\n\u001b[1;32m---> 45\u001b[1;33m         \u001b[0mcdata\u001b[0m \u001b[1;33m=\u001b[0m \u001b[0mfunction\u001b[0m\u001b[1;33m(\u001b[0m\u001b[1;33m*\u001b[0m\u001b[0margs\u001b[0m\u001b[1;33m,\u001b[0m \u001b[1;33m**\u001b[0m\u001b[0mkwargs\u001b[0m\u001b[1;33m)\u001b[0m\u001b[1;33m\u001b[0m\u001b[1;33m\u001b[0m\u001b[0m\n\u001b[0m\u001b[0;32m     46\u001b[0m         \u001b[1;31m# TODO: test cdata is of the expected CType\u001b[0m\u001b[1;33m\u001b[0m\u001b[1;33m\u001b[0m\u001b[1;33m\u001b[0m\u001b[0m\n\u001b[0;32m     47\u001b[0m         \u001b[1;32mreturn\u001b[0m \u001b[0m_cdata_to_rinterface\u001b[0m\u001b[1;33m(\u001b[0m\u001b[0mcdata\u001b[0m\u001b[1;33m)\u001b[0m\u001b[1;33m\u001b[0m\u001b[1;33m\u001b[0m\u001b[0m\n",
      "\u001b[1;32mc:\\users\\fehmi\\appdata\\local\\programs\\python\\python39\\lib\\site-packages\\rpy2\\rinterface_lib\\_rinterface_capi.py\u001b[0m in \u001b[0;36m_\u001b[1;34m(*args, **kwargs)\u001b[0m\n\u001b[0;32m    331\u001b[0m \u001b[1;32mdef\u001b[0m \u001b[0m_evaluated_promise\u001b[0m\u001b[1;33m(\u001b[0m\u001b[0mfunction\u001b[0m\u001b[1;33m)\u001b[0m\u001b[1;33m:\u001b[0m\u001b[1;33m\u001b[0m\u001b[1;33m\u001b[0m\u001b[0m\n\u001b[0;32m    332\u001b[0m     \u001b[1;32mdef\u001b[0m \u001b[0m_\u001b[0m\u001b[1;33m(\u001b[0m\u001b[1;33m*\u001b[0m\u001b[0margs\u001b[0m\u001b[1;33m,\u001b[0m \u001b[1;33m**\u001b[0m\u001b[0mkwargs\u001b[0m\u001b[1;33m)\u001b[0m\u001b[1;33m:\u001b[0m\u001b[1;33m\u001b[0m\u001b[1;33m\u001b[0m\u001b[0m\n\u001b[1;32m--> 333\u001b[1;33m         \u001b[0mrobj\u001b[0m \u001b[1;33m=\u001b[0m \u001b[0mfunction\u001b[0m\u001b[1;33m(\u001b[0m\u001b[1;33m*\u001b[0m\u001b[0margs\u001b[0m\u001b[1;33m,\u001b[0m \u001b[1;33m**\u001b[0m\u001b[0mkwargs\u001b[0m\u001b[1;33m)\u001b[0m\u001b[1;33m\u001b[0m\u001b[1;33m\u001b[0m\u001b[0m\n\u001b[0m\u001b[0;32m    334\u001b[0m         \u001b[1;32mif\u001b[0m \u001b[0m_TYPEOF\u001b[0m\u001b[1;33m(\u001b[0m\u001b[0mrobj\u001b[0m\u001b[1;33m)\u001b[0m \u001b[1;33m==\u001b[0m \u001b[0mopenrlib\u001b[0m\u001b[1;33m.\u001b[0m\u001b[0mrlib\u001b[0m\u001b[1;33m.\u001b[0m\u001b[0mPROMSXP\u001b[0m\u001b[1;33m:\u001b[0m\u001b[1;33m\u001b[0m\u001b[1;33m\u001b[0m\u001b[0m\n\u001b[0;32m    335\u001b[0m             robj = openrlib.rlib.Rf_eval(\n",
      "\u001b[1;32mc:\\users\\fehmi\\appdata\\local\\programs\\python\\python39\\lib\\site-packages\\rpy2\\rinterface_lib\\sexp.py\u001b[0m in \u001b[0;36mfind\u001b[1;34m(self, key, wantfun)\u001b[0m\n\u001b[0;32m    340\u001b[0m         \u001b[1;31m# TODO: move check of R_UnboundValue to _rinterface ?\u001b[0m\u001b[1;33m\u001b[0m\u001b[1;33m\u001b[0m\u001b[1;33m\u001b[0m\u001b[0m\n\u001b[0;32m    341\u001b[0m         \u001b[1;32mif\u001b[0m \u001b[0mres\u001b[0m \u001b[1;33m==\u001b[0m \u001b[0mopenrlib\u001b[0m\u001b[1;33m.\u001b[0m\u001b[0mrlib\u001b[0m\u001b[1;33m.\u001b[0m\u001b[0mR_UnboundValue\u001b[0m\u001b[1;33m:\u001b[0m\u001b[1;33m\u001b[0m\u001b[1;33m\u001b[0m\u001b[0m\n\u001b[1;32m--> 342\u001b[1;33m             \u001b[1;32mraise\u001b[0m \u001b[0mKeyError\u001b[0m\u001b[1;33m(\u001b[0m\u001b[1;34m\"'%s' not found\"\u001b[0m \u001b[1;33m%\u001b[0m \u001b[0mkey\u001b[0m\u001b[1;33m)\u001b[0m\u001b[1;33m\u001b[0m\u001b[1;33m\u001b[0m\u001b[0m\n\u001b[0m\u001b[0;32m    343\u001b[0m         \u001b[1;32mreturn\u001b[0m \u001b[0mres\u001b[0m\u001b[1;33m\u001b[0m\u001b[1;33m\u001b[0m\u001b[0m\n\u001b[0;32m    344\u001b[0m \u001b[1;33m\u001b[0m\u001b[0m\n",
      "\u001b[1;31mKeyError\u001b[0m: \"'robustSmoothSpline' not found\""
     ]
    }
   ],
   "source": [
    "##LOWESS\n",
    "#lowess_outliers = lowess(pdg_outliers, time_array, frac=0.01)[:,1]\n",
    "#lowess_noisy = lowess(pdg_noisy, time_array, frac=0.01)[:,1]\n",
    "##Polyfit\n",
    "#poly_outliers = np.poly1d(np.polyfit(time_array, pdg_outliers, 10))(time_array)\n",
    "#poly_noisy = np.poly1d(np.polyfit(time_array, pdg_noisy, 10))(time_array)\n",
    "##Regression Splines\n",
    "#r_x = robj.FloatVector(time_array)\n",
    "#r_y_outliers = robj.FloatVector(pdg_outliers)\n",
    "#r_y_noisy = robj.FloatVector(pdg_noisy)\n",
    "#r_smooth_spline = robj.r['smooth.spline']\n",
    "#spl_outliers = np.asarray(r_smooth_spline(x=r_x, y=r_y_outliers, cv=True)[1])\n",
    "#spl_noisy = np.asarray(r_smooth_spline(x=r_x, y=r_y_noisy, cv=True)[1])\n",
    "##Wavelet\n",
    "#wavelet_outliers = denoise_wavelet(pdg_outliers, wavelet='sym8', mode='soft', method='BayesShrink')\n",
    "#wavelet_noisy = denoise_wavelet(pdg_noisy, wavelet='sym8', mode='soft', method='BayesShrink')\n",
    "#Robust Spline\n",
    "r_robust_smooth_spline = robj.r['robustSmoothSpline']\n",
    "rob_spl_outliers = np.asarray(r_robust_smooth_spline(x=r_x, y=r_y_outliers)[1])\n",
    "rob_spl_noisy = np.asarray(r_robust_smooth_spline(x=r_x, y=r_y_noisy)[1])"
   ]
  },
  {
   "cell_type": "code",
   "execution_count": null,
   "metadata": {},
   "outputs": [],
   "source": [
    "#df_lowess_outliers = pd.DataFrame(list(zip(time_array, lowess_outliers)), columns=['Time(s)', 'Pressure(psi)'])\n",
    "#df_lowess_noisy = pd.DataFrame(list(zip(time_array, lowess_noisy)), columns=['Time(s)', 'Pressure(psi)'])\n",
    "#df_lowess_outliers.to_csv(\"lowess_outliers_\" + data_nametag + \".csv\")\n",
    "#df_lowess_noisy.to_csv(\"lowess_noisy_\" + data_nametag + \".csv\")\n",
    "#\n",
    "#df_poly_outliers = pd.DataFrame(list(zip(time_array, poly_outliers)), columns=['Time(s)', 'Pressure(psi)'])\n",
    "#df_poly_noisy = pd.DataFrame(list(zip(time_array, poly_noisy)), columns=['Time(s)', 'Pressure(psi)'])\n",
    "#df_poly_outliers.to_csv(\"poly_outliers_\" + data_nametag + \".csv\")\n",
    "#df_poly_noisy.to_csv(\"poly_noisy_\" + data_nametag + \".csv\")\n",
    "#\n",
    "#df_spl_outliers = pd.DataFrame(list(zip(time_array, spl_outliers)), columns=['Time(s)', 'Pressure(psi)'])\n",
    "#df_spl_noisy = pd.DataFrame(list(zip(time_array, spl_noisy)), columns=['Time(s)', 'Pressure(psi)'])\n",
    "#df_spl_outliers.to_csv(\"spl_outliers_\" + data_nametag + \".csv\")\n",
    "#df_spl_noisy.to_csv(\"spl_noisy_\" + data_nametag + \".csv\")\n",
    "#\n",
    "#df_wavelet_outliers = pd.DataFrame(list(zip(time_array, wavelet_outliers)), columns=['Time(s)', 'Pressure(psi)'])\n",
    "#df_wavelet_noisy = pd.DataFrame(list(zip(time_array, wavelet_noisy)), columns=['Time(s)', 'Pressure(psi)'])\n",
    "#df_wavelet_outliers.to_csv(\"wavelet_outliers_\" + data_nametag + \".csv\")\n",
    "#df_wavelet_noisy.to_csv(\"wavelet_noisy_\" + data_nametag + \".csv\")\n",
    "\n",
    "df_rob_spl_outliers = pd.DataFrame(list(zip(time_array, rob_spl_outliers)), columns=['Time(s)', 'Pressure(psi)'])\n",
    "df_rob_spl_noisy = pd.DataFrame(list(zip(time_array, rob_spl_noisy)), columns=['Time(s)', 'Pressure(psi)'])\n",
    "df_rob_spl_outliers.to_csv(\"rob_spl_outliers_\" + data_nametag + \".csv\")\n",
    "df_rob_spl_noisy.to_csv(\"rob_spl_noisy_\" + data_nametag + \".csv\")"
   ]
  },
  {
   "cell_type": "code",
   "execution_count": null,
   "metadata": {},
   "outputs": [],
   "source": [
    "#rmse_lowess_outliers = RMSE(pdg_data, lowess_outliers)\n",
    "#rmse_lowess_noisy = RMSE(pdg_data, lowess_noisy)\n",
    "#rmse_poly_outliers = RMSE(pdg_data, poly_outliers)\n",
    "#rmse_poly_noisy = RMSE(pdg_data, poly_noisy)\n",
    "#rmse_spl_outliers = RMSE(pdg_data, spl_outliers)\n",
    "#rmse_spl_noisy = RMSE(pdg_data, spl_noisy)\n",
    "#rmse_wavelet_outliers = RMSE(pdg_data, wavelet_outliers)\n",
    "#rmse_wavelet_noisy = RMSE(pdg_data, wavelet_noisy)\n",
    "rmse_rob_spl_outliers = RMSE(pdg_data, rob_spl_outliers)\n",
    "rmse_rob_spl_noisy = RMSE(pdg_data, rob_spl_noisy)\n",
    "#\n",
    "#label_lowess_outliers = 'LOWESS / Outliers - RMSE=' + str(round(rmse_lowess_outliers, 3))\n",
    "#label_lowess_noisy = 'LOWESS / Noisy - RMSE=' + str(round(rmse_lowess_noisy, 3))\n",
    "#label_poly_outliers = 'Polyfit / Outliers - RMSE=' + str(round(rmse_poly_outliers, 3))\n",
    "#label_poly_noisy = 'Polyfit / Noisy - RMSE=' + str(round(rmse_poly_noisy, 3))\n",
    "#label_spl_outliers = 'Spline / Outliers - RMSE=' + str(round(rmse_spl_outliers, 3))\n",
    "#label_spl_noisy = 'Spline / Noisy - RMSE=' + str(round(rmse_spl_noisy, 3))\n",
    "#label_wavelet_outliers = 'Wavelet / Outliers - RMSE=' + str(round(rmse_wavelet_outliers, 3))\n",
    "#label_wavelet_noisy = 'Wavelet / Noisy - RMSE=' + str(round(rmse_wavelet_noisy, 3))\n",
    "label_rob_spl_outliers = 'Robust Spline / Outliers - RMSE=' + str(round(rmse_rob_spl_outliers, 3))\n",
    "label_rob_spl_noisy = 'Robust Spline / Noisy - RMSE=' + str(round(rmse_rob_spl_noisy, 3))"
   ]
  },
  {
   "cell_type": "code",
   "execution_count": null,
   "metadata": {},
   "outputs": [],
   "source": [
    "plt.figure(figsize=(12,8))\n",
    "plt.scatter(time_array, pdg_data, color='grey')\n",
    "#plt.plot(time_array, lowess_noisy, label=label_lowess_noisy)\n",
    "#plt.plot(time_array, poly_noisy, label=label_poly_noisy)\n",
    "#plt.plot(time_array, spl_noisy, label=label_spl_noisy)\n",
    "#plt.plot(time_array, wavelet_noisy, label=label_wavelet_noisy)\n",
    "plt.plot(time_array, rob_spl_noisy, label=label_rob_spl_noisy)\n",
    "plt.title(\"Pressure vs Time\")\n",
    "plt.xlabel(\"Time(s)\")\n",
    "plt.ylabel(\"Pressure(psi)\")\n",
    "plt.legend()\n",
    "#plt.savefig(\"methods_noisy_\" + data_nametag, dpi=400)"
   ]
  },
  {
   "cell_type": "code",
   "execution_count": null,
   "metadata": {},
   "outputs": [],
   "source": [
    "plt.figure(figsize=(12,8))\n",
    "plt.scatter(time_array, pdg_data, color='grey')\n",
    "#plt.plot(time_array, lowess_outliers, label=label_lowess_outliers)\n",
    "#plt.plot(time_array, poly_outliers, label=label_poly_outliers)\n",
    "#plt.plot(time_array, spl_outliers, label=label_spl_outliers)\n",
    "plt.plot(time_array, rob_spl_outliers, label=label_rob_spl_outliers)\n",
    "plt.title(\"Pressure vs Time\")\n",
    "plt.xlabel(\"Time(s)\")\n",
    "plt.ylabel(\"Pressure(psi)\")\n",
    "plt.legend()\n",
    "#plt.savefig(\"methods_outliers_\" + data_nametag, dpi=400)"
   ]
  }
 ],
 "metadata": {
  "kernelspec": {
   "display_name": "Python 3",
   "language": "python",
   "name": "python3"
  },
  "language_info": {
   "codemirror_mode": {
    "name": "ipython",
    "version": 3
   },
   "file_extension": ".py",
   "mimetype": "text/x-python",
   "name": "python",
   "nbconvert_exporter": "python",
   "pygments_lexer": "ipython3",
   "version": "3.9.4"
  }
 },
 "nbformat": 4,
 "nbformat_minor": 4
}
